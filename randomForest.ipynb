# ============================
# Random Forest Classifier Code
# ============================

import pandas as pd
import numpy as np
import matplotlib.pyplot as plt
import seaborn as sns

from sklearn.model_selection import train_test_split
from sklearn.ensemble import RandomForestClassifier
from sklearn.metrics import classification_report, ConfusionMatrixDisplay

# ============================
# 1. Load dataset
# ============================
df = pd.read_csv("StressLevelDataset.csv")

# Target variable mapping
stress_mapping = {
    0: "No Stress",
    1: "Eustress",
    2: "Distress"
}
df["stress_label"] = df["stress_level"].map(stress_mapping)

# ============================
# 2. Features and target
# ============================
X = df.drop(columns=["stress_level", "stress_label"])
y = df["stress_label"]

# Train/test split
X_train, X_test, y_train, y_test = train_test_split(
    X, y, test_size=0.2, random_state=42, stratify=y
)

# ============================
# 3. Train Random Forest
# ============================
rf = RandomForestClassifier(n_estimators=200, random_state=42)
rf.fit(X_train, y_train)

# Predictions
y_pred_rf = rf.predict(X_test)

# ============================
# 4. Evaluation
# ============================
print("\nRandom Forest Report:")
print(classification_report(y_test, y_pred_rf))

ConfusionMatrixDisplay.from_estimator(
    rf, X_test, y_test, cmap="Greens", display_labels=stress_mapping.values()
)
plt.title("Confusion Matrix - Random Forest")
plt.show()

# ============================
# 5. Feature Importance
# ============================
importances = rf.feature_importances_
indices = np.argsort(importances)[::-1]

plt.figure(figsize=(10,6))
sns.barplot(x=importances[indices], y=X.columns[indices])
plt.title("Random Forest - Feature Importances")
plt.show()

# ============================
# 6. Test prediction with one sample
# ============================
sample = X_test.iloc[0]   # Take first test row
print("Sample input features:\n", sample)

pred_rf = rf.predict([sample])[0]

print("\nTrue label:", y_test.iloc[0])
print("Random Forest Prediction:", pred_rf)
